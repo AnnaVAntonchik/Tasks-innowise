{
 "cells": [
  {
   "cell_type": "markdown",
   "id": "trained-moses",
   "metadata": {},
   "source": [
    "import libraries(I provide all libs that I need when make this tasks, if you need some external import them here)"
   ]
  },
  {
   "cell_type": "code",
   "execution_count": 1,
   "id": "induced-african",
   "metadata": {},
   "outputs": [],
   "source": [
    "import pyspark\n",
    "from pyspark.sql import SparkSession\n",
    "from pyspark.sql.types import StructType, StructField, IntegerType, StringType\n",
    "from pyspark.sql.functions import col\n",
    "from pyspark.sql.functions import max, avg, min\n",
    "from pyspark.sql.window import Window\n",
    "from pyspark.sql.functions import row_number, desc\n",
    "from pyspark.sql.functions import when"
   ]
  },
  {
   "cell_type": "markdown",
   "id": "permanent-photographer",
   "metadata": {},
   "source": [
    "create local SparkSession"
   ]
  },
  {
   "cell_type": "code",
   "execution_count": 2,
   "id": "stock-partnership",
   "metadata": {},
   "outputs": [],
   "source": [
    "import findspark\n",
    "findspark.init()\n",
    "spark = SparkSession.builder.appName(\"task\").getOrCreate()"
   ]
  },
  {
   "cell_type": "markdown",
   "id": "juvenile-blame",
   "metadata": {},
   "source": [
    "read csv with inferschema"
   ]
  },
  {
   "cell_type": "code",
   "execution_count": 3,
   "id": "computational-liverpool",
   "metadata": {},
   "outputs": [
    {
     "name": "stdout",
     "output_type": "stream",
     "text": [
      "CPU times: user 1.79 ms, sys: 2.83 ms, total: 4.62 ms\n",
      "Wall time: 4.12 s\n"
     ]
    }
   ],
   "source": [
    "%%time\n",
    "df_salaries = (spark.read.format('csv')\n",
    "              .option(\"header\", \"true\") \n",
    "              .option(\"inferSchema\", \"true\")  \n",
    "              .load(\"ds_salaries.csv\"))"
   ]
  },
  {
   "cell_type": "markdown",
   "id": "stopped-dominant",
   "metadata": {},
   "source": [
    "read csv one more time with the same code and you will see that it almostly don't take time, because info already in SparkSession and it will not read nothing\n",
    "from this file"
   ]
  },
  {
   "cell_type": "code",
   "execution_count": 5,
   "id": "aging-neighborhood",
   "metadata": {},
   "outputs": [
    {
     "name": "stdout",
     "output_type": "stream",
     "text": [
      "CPU times: user 0 ns, sys: 2.71 ms, total: 2.71 ms\n",
      "Wall time: 321 ms\n"
     ]
    }
   ],
   "source": [
    "%%time\n",
    "df_salaries = (spark.read.format('csv')\n",
    "              .option(\"header\", \"true\") \n",
    "              .option(\"inferSchema\", \"true\")  \n",
    "              .load(\"ds_salaries.csv\"))"
   ]
  },
  {
   "cell_type": "markdown",
   "id": "mature-tomorrow",
   "metadata": {},
   "source": [
    "write schema of scv on screen"
   ]
  },
  {
   "cell_type": "code",
   "execution_count": 7,
   "id": "least-communications",
   "metadata": {},
   "outputs": [
    {
     "name": "stdout",
     "output_type": "stream",
     "text": [
      "root\n",
      " |-- _c0: integer (nullable = true)\n",
      " |-- work_year: integer (nullable = true)\n",
      " |-- experience_level: string (nullable = true)\n",
      " |-- employment_type: string (nullable = true)\n",
      " |-- job_title: string (nullable = true)\n",
      " |-- salary: integer (nullable = true)\n",
      " |-- salary_currency: string (nullable = true)\n",
      " |-- salary_in_usd: integer (nullable = true)\n",
      " |-- employee_residence: string (nullable = true)\n",
      " |-- remote_ratio: integer (nullable = true)\n",
      " |-- company_location: string (nullable = true)\n",
      " |-- company_size: string (nullable = true)\n",
      "\n",
      "CPU times: user 602 µs, sys: 1.06 ms, total: 1.67 ms\n",
      "Wall time: 2.66 ms\n"
     ]
    }
   ],
   "source": [
    "%%time\n",
    "df_salaries.printSchema()"
   ]
  },
  {
   "cell_type": "markdown",
   "id": "connected-brother",
   "metadata": {},
   "source": [
    "create schema of this scv"
   ]
  },
  {
   "cell_type": "code",
   "execution_count": 3,
   "id": "progressive-dictionary",
   "metadata": {},
   "outputs": [],
   "source": [
    "# salaries_schema = df_salaries.schema\n",
    "salaries_schema = StructType([StructField('_c0', IntegerType(), True), \n",
    "                              StructField('work_year', IntegerType(), True), \n",
    "                              StructField('experience_level', StringType(), True), \n",
    "                              StructField('employment_type', StringType(), True), \n",
    "                              StructField('job_title', StringType(), True), \n",
    "                              StructField('salary', IntegerType(), True), \n",
    "                              StructField('salary_currency', StringType(), True), \n",
    "                              StructField('salary_in_usd', IntegerType(), True), \n",
    "                              StructField('employee_residence', StringType(), True), \n",
    "                              StructField('remote_ratio', IntegerType(), True), \n",
    "                              StructField('company_location', StringType(), True), \n",
    "                              StructField('company_size', StringType(), True)])"
   ]
  },
  {
   "cell_type": "markdown",
   "id": "auburn-sauce",
   "metadata": {},
   "source": [
    "restart kernel without cleaning output and after restarting you need to initialize SparkSession, after initialize start execute only cells from cell with schema=\n",
    "=StructType.... \n",
    "To restart kernel click Kernel, Restart."
   ]
  },
  {
   "cell_type": "markdown",
   "id": "artistic-hospital",
   "metadata": {},
   "source": [
    "read ds_salaries with predefined schema and compare results from this cell and cell with inferSchema"
   ]
  },
  {
   "cell_type": "code",
   "execution_count": 4,
   "id": "literary-plaintiff",
   "metadata": {},
   "outputs": [
    {
     "name": "stdout",
     "output_type": "stream",
     "text": [
      "CPU times: user 1.41 ms, sys: 2.8 ms, total: 4.21 ms\n",
      "Wall time: 1.56 s\n"
     ]
    }
   ],
   "source": [
    "%%time\n",
    "df_salaries = (spark.read.format('csv')\n",
    "              .option('header', 'true')\n",
    "              .schema(salaries_schema)\n",
    "              .load(\"ds_salaries.csv\"))"
   ]
  },
  {
   "cell_type": "markdown",
   "id": "senior-joint",
   "metadata": {},
   "source": [
    "this happens because read operation is lazy(transformation), but if you use inferschema it start to be action that will create Spark Job, because Spark need to loop throw all file to check datatypes for all columns and this can harm to your code(if we compare to parquet, it will also go to check data types, but parquet provide meta information, so Spark will not go throw all file, he will just read meta information, but csv don't provide such meta information). Also header make Spark to create one more Spark Job to check first line\n",
    "to define name of columns and remember to skeep it when reading. Actual reading start when you will use first action. More about Spark Jobs you will see in next topic"
   ]
  },
  {
   "cell_type": "markdown",
   "id": "underlying-assurance",
   "metadata": {},
   "source": [
    "write schema of scv on screen one more time and compare with previous"
   ]
  },
  {
   "cell_type": "code",
   "execution_count": 9,
   "id": "solid-infection",
   "metadata": {},
   "outputs": [
    {
     "name": "stdout",
     "output_type": "stream",
     "text": [
      "root\n",
      " |-- _c0: integer (nullable = true)\n",
      " |-- work_year: integer (nullable = true)\n",
      " |-- experience_level: string (nullable = true)\n",
      " |-- employment_type: string (nullable = true)\n",
      " |-- job_title: string (nullable = true)\n",
      " |-- salary: integer (nullable = true)\n",
      " |-- salary_currency: string (nullable = true)\n",
      " |-- salary_in_usd: integer (nullable = true)\n",
      " |-- employee_residence: string (nullable = true)\n",
      " |-- remote_ratio: integer (nullable = true)\n",
      " |-- company_location: string (nullable = true)\n",
      " |-- company_size: string (nullable = true)\n",
      "\n",
      "CPU times: user 446 µs, sys: 740 µs, total: 1.19 ms\n",
      "Wall time: 1.27 ms\n"
     ]
    }
   ],
   "source": [
    "%%time\n",
    "df_salaries.printSchema()"
   ]
  },
  {
   "cell_type": "markdown",
   "id": "close-water",
   "metadata": {},
   "source": [
    "now continue to work with one of the dataframes that you create"
   ]
  },
  {
   "cell_type": "markdown",
   "id": "piano-belgium",
   "metadata": {},
   "source": [
    "print data in dataframe using df.show"
   ]
  },
  {
   "cell_type": "code",
   "execution_count": 6,
   "id": "legendary-alarm",
   "metadata": {},
   "outputs": [
    {
     "name": "stdout",
     "output_type": "stream",
     "text": [
      "+---+---------+----------------+---------------+--------------------+--------+---------------+-------------+------------------+------------+----------------+------------+\n",
      "|_c0|work_year|experience_level|employment_type|           job_title|  salary|salary_currency|salary_in_usd|employee_residence|remote_ratio|company_location|company_size|\n",
      "+---+---------+----------------+---------------+--------------------+--------+---------------+-------------+------------------+------------+----------------+------------+\n",
      "|  0|     2020|              MI|             FT|      Data Scientist|   70000|            EUR|        79833|                DE|           0|              DE|           L|\n",
      "|  1|     2020|              SE|             FT|Machine Learning ...|  260000|            USD|       260000|                JP|           0|              JP|           S|\n",
      "|  2|     2020|              SE|             FT|   Big Data Engineer|   85000|            GBP|       109024|                GB|          50|              GB|           M|\n",
      "|  3|     2020|              MI|             FT|Product Data Analyst|   20000|            USD|        20000|                HN|           0|              HN|           S|\n",
      "|  4|     2020|              SE|             FT|Machine Learning ...|  150000|            USD|       150000|                US|          50|              US|           L|\n",
      "|  5|     2020|              EN|             FT|        Data Analyst|   72000|            USD|        72000|                US|         100|              US|           L|\n",
      "|  6|     2020|              SE|             FT| Lead Data Scientist|  190000|            USD|       190000|                US|         100|              US|           S|\n",
      "|  7|     2020|              MI|             FT|      Data Scientist|11000000|            HUF|        35735|                HU|          50|              HU|           L|\n",
      "|  8|     2020|              MI|             FT|Business Data Ana...|  135000|            USD|       135000|                US|         100|              US|           L|\n",
      "|  9|     2020|              SE|             FT|  Lead Data Engineer|  125000|            USD|       125000|                NZ|          50|              NZ|           S|\n",
      "| 10|     2020|              EN|             FT|      Data Scientist|   45000|            EUR|        51321|                FR|           0|              FR|           S|\n",
      "| 11|     2020|              MI|             FT|      Data Scientist| 3000000|            INR|        40481|                IN|           0|              IN|           L|\n",
      "| 12|     2020|              EN|             FT|      Data Scientist|   35000|            EUR|        39916|                FR|           0|              FR|           M|\n",
      "| 13|     2020|              MI|             FT|   Lead Data Analyst|   87000|            USD|        87000|                US|         100|              US|           L|\n",
      "| 14|     2020|              MI|             FT|        Data Analyst|   85000|            USD|        85000|                US|         100|              US|           L|\n",
      "| 15|     2020|              MI|             FT|        Data Analyst|    8000|            USD|         8000|                PK|          50|              PK|           L|\n",
      "| 16|     2020|              EN|             FT|       Data Engineer| 4450000|            JPY|        41689|                JP|         100|              JP|           S|\n",
      "| 17|     2020|              SE|             FT|   Big Data Engineer|  100000|            EUR|       114047|                PL|         100|              GB|           S|\n",
      "| 18|     2020|              EN|             FT|Data Science Cons...|  423000|            INR|         5707|                IN|          50|              IN|           M|\n",
      "| 19|     2020|              MI|             FT|  Lead Data Engineer|   56000|            USD|        56000|                PT|         100|              US|           M|\n",
      "+---+---------+----------------+---------------+--------------------+--------+---------------+-------------+------------------+------------+----------------+------------+\n",
      "only showing top 20 rows\n",
      "\n"
     ]
    }
   ],
   "source": [
    "df_salaries.show()"
   ]
  },
  {
   "cell_type": "markdown",
   "id": "tamil-medium",
   "metadata": {},
   "source": [
    "print data in dataframe using display(df.toPandas())"
   ]
  },
  {
   "cell_type": "code",
   "execution_count": 7,
   "id": "connected-dryer",
   "metadata": {},
   "outputs": [
    {
     "data": {
      "text/html": [
       "<div>\n",
       "<style scoped>\n",
       "    .dataframe tbody tr th:only-of-type {\n",
       "        vertical-align: middle;\n",
       "    }\n",
       "\n",
       "    .dataframe tbody tr th {\n",
       "        vertical-align: top;\n",
       "    }\n",
       "\n",
       "    .dataframe thead th {\n",
       "        text-align: right;\n",
       "    }\n",
       "</style>\n",
       "<table border=\"1\" class=\"dataframe\">\n",
       "  <thead>\n",
       "    <tr style=\"text-align: right;\">\n",
       "      <th></th>\n",
       "      <th>_c0</th>\n",
       "      <th>work_year</th>\n",
       "      <th>experience_level</th>\n",
       "      <th>employment_type</th>\n",
       "      <th>job_title</th>\n",
       "      <th>salary</th>\n",
       "      <th>salary_currency</th>\n",
       "      <th>salary_in_usd</th>\n",
       "      <th>employee_residence</th>\n",
       "      <th>remote_ratio</th>\n",
       "      <th>company_location</th>\n",
       "      <th>company_size</th>\n",
       "    </tr>\n",
       "  </thead>\n",
       "  <tbody>\n",
       "    <tr>\n",
       "      <th>0</th>\n",
       "      <td>0</td>\n",
       "      <td>2020</td>\n",
       "      <td>MI</td>\n",
       "      <td>FT</td>\n",
       "      <td>Data Scientist</td>\n",
       "      <td>70000</td>\n",
       "      <td>EUR</td>\n",
       "      <td>79833</td>\n",
       "      <td>DE</td>\n",
       "      <td>0</td>\n",
       "      <td>DE</td>\n",
       "      <td>L</td>\n",
       "    </tr>\n",
       "    <tr>\n",
       "      <th>1</th>\n",
       "      <td>1</td>\n",
       "      <td>2020</td>\n",
       "      <td>SE</td>\n",
       "      <td>FT</td>\n",
       "      <td>Machine Learning Scientist</td>\n",
       "      <td>260000</td>\n",
       "      <td>USD</td>\n",
       "      <td>260000</td>\n",
       "      <td>JP</td>\n",
       "      <td>0</td>\n",
       "      <td>JP</td>\n",
       "      <td>S</td>\n",
       "    </tr>\n",
       "    <tr>\n",
       "      <th>2</th>\n",
       "      <td>2</td>\n",
       "      <td>2020</td>\n",
       "      <td>SE</td>\n",
       "      <td>FT</td>\n",
       "      <td>Big Data Engineer</td>\n",
       "      <td>85000</td>\n",
       "      <td>GBP</td>\n",
       "      <td>109024</td>\n",
       "      <td>GB</td>\n",
       "      <td>50</td>\n",
       "      <td>GB</td>\n",
       "      <td>M</td>\n",
       "    </tr>\n",
       "    <tr>\n",
       "      <th>3</th>\n",
       "      <td>3</td>\n",
       "      <td>2020</td>\n",
       "      <td>MI</td>\n",
       "      <td>FT</td>\n",
       "      <td>Product Data Analyst</td>\n",
       "      <td>20000</td>\n",
       "      <td>USD</td>\n",
       "      <td>20000</td>\n",
       "      <td>HN</td>\n",
       "      <td>0</td>\n",
       "      <td>HN</td>\n",
       "      <td>S</td>\n",
       "    </tr>\n",
       "    <tr>\n",
       "      <th>4</th>\n",
       "      <td>4</td>\n",
       "      <td>2020</td>\n",
       "      <td>SE</td>\n",
       "      <td>FT</td>\n",
       "      <td>Machine Learning Engineer</td>\n",
       "      <td>150000</td>\n",
       "      <td>USD</td>\n",
       "      <td>150000</td>\n",
       "      <td>US</td>\n",
       "      <td>50</td>\n",
       "      <td>US</td>\n",
       "      <td>L</td>\n",
       "    </tr>\n",
       "    <tr>\n",
       "      <th>...</th>\n",
       "      <td>...</td>\n",
       "      <td>...</td>\n",
       "      <td>...</td>\n",
       "      <td>...</td>\n",
       "      <td>...</td>\n",
       "      <td>...</td>\n",
       "      <td>...</td>\n",
       "      <td>...</td>\n",
       "      <td>...</td>\n",
       "      <td>...</td>\n",
       "      <td>...</td>\n",
       "      <td>...</td>\n",
       "    </tr>\n",
       "    <tr>\n",
       "      <th>602</th>\n",
       "      <td>602</td>\n",
       "      <td>2022</td>\n",
       "      <td>SE</td>\n",
       "      <td>FT</td>\n",
       "      <td>Data Engineer</td>\n",
       "      <td>154000</td>\n",
       "      <td>USD</td>\n",
       "      <td>154000</td>\n",
       "      <td>US</td>\n",
       "      <td>100</td>\n",
       "      <td>US</td>\n",
       "      <td>M</td>\n",
       "    </tr>\n",
       "    <tr>\n",
       "      <th>603</th>\n",
       "      <td>603</td>\n",
       "      <td>2022</td>\n",
       "      <td>SE</td>\n",
       "      <td>FT</td>\n",
       "      <td>Data Engineer</td>\n",
       "      <td>126000</td>\n",
       "      <td>USD</td>\n",
       "      <td>126000</td>\n",
       "      <td>US</td>\n",
       "      <td>100</td>\n",
       "      <td>US</td>\n",
       "      <td>M</td>\n",
       "    </tr>\n",
       "    <tr>\n",
       "      <th>604</th>\n",
       "      <td>604</td>\n",
       "      <td>2022</td>\n",
       "      <td>SE</td>\n",
       "      <td>FT</td>\n",
       "      <td>Data Analyst</td>\n",
       "      <td>129000</td>\n",
       "      <td>USD</td>\n",
       "      <td>129000</td>\n",
       "      <td>US</td>\n",
       "      <td>0</td>\n",
       "      <td>US</td>\n",
       "      <td>M</td>\n",
       "    </tr>\n",
       "    <tr>\n",
       "      <th>605</th>\n",
       "      <td>605</td>\n",
       "      <td>2022</td>\n",
       "      <td>SE</td>\n",
       "      <td>FT</td>\n",
       "      <td>Data Analyst</td>\n",
       "      <td>150000</td>\n",
       "      <td>USD</td>\n",
       "      <td>150000</td>\n",
       "      <td>US</td>\n",
       "      <td>100</td>\n",
       "      <td>US</td>\n",
       "      <td>M</td>\n",
       "    </tr>\n",
       "    <tr>\n",
       "      <th>606</th>\n",
       "      <td>606</td>\n",
       "      <td>2022</td>\n",
       "      <td>MI</td>\n",
       "      <td>FT</td>\n",
       "      <td>AI Scientist</td>\n",
       "      <td>200000</td>\n",
       "      <td>USD</td>\n",
       "      <td>200000</td>\n",
       "      <td>IN</td>\n",
       "      <td>100</td>\n",
       "      <td>US</td>\n",
       "      <td>L</td>\n",
       "    </tr>\n",
       "  </tbody>\n",
       "</table>\n",
       "<p>607 rows × 12 columns</p>\n",
       "</div>"
      ],
      "text/plain": [
       "     _c0  work_year experience_level employment_type  \\\n",
       "0      0       2020               MI              FT   \n",
       "1      1       2020               SE              FT   \n",
       "2      2       2020               SE              FT   \n",
       "3      3       2020               MI              FT   \n",
       "4      4       2020               SE              FT   \n",
       "..   ...        ...              ...             ...   \n",
       "602  602       2022               SE              FT   \n",
       "603  603       2022               SE              FT   \n",
       "604  604       2022               SE              FT   \n",
       "605  605       2022               SE              FT   \n",
       "606  606       2022               MI              FT   \n",
       "\n",
       "                      job_title  salary salary_currency  salary_in_usd  \\\n",
       "0                Data Scientist   70000             EUR          79833   \n",
       "1    Machine Learning Scientist  260000             USD         260000   \n",
       "2             Big Data Engineer   85000             GBP         109024   \n",
       "3          Product Data Analyst   20000             USD          20000   \n",
       "4     Machine Learning Engineer  150000             USD         150000   \n",
       "..                          ...     ...             ...            ...   \n",
       "602               Data Engineer  154000             USD         154000   \n",
       "603               Data Engineer  126000             USD         126000   \n",
       "604                Data Analyst  129000             USD         129000   \n",
       "605                Data Analyst  150000             USD         150000   \n",
       "606                AI Scientist  200000             USD         200000   \n",
       "\n",
       "    employee_residence  remote_ratio company_location company_size  \n",
       "0                   DE             0               DE            L  \n",
       "1                   JP             0               JP            S  \n",
       "2                   GB            50               GB            M  \n",
       "3                   HN             0               HN            S  \n",
       "4                   US            50               US            L  \n",
       "..                 ...           ...              ...          ...  \n",
       "602                 US           100               US            M  \n",
       "603                 US           100               US            M  \n",
       "604                 US             0               US            M  \n",
       "605                 US           100               US            M  \n",
       "606                 IN           100               US            L  \n",
       "\n",
       "[607 rows x 12 columns]"
      ]
     },
     "execution_count": 7,
     "metadata": {},
     "output_type": "execute_result"
    }
   ],
   "source": [
    "df_salaries.toPandas()"
   ]
  },
  {
   "cell_type": "markdown",
   "id": "opponent-gazette",
   "metadata": {},
   "source": [
    "create df_job_title that consists from all job_titles without duplicates"
   ]
  },
  {
   "cell_type": "code",
   "execution_count": 8,
   "id": "friendly-cartridge",
   "metadata": {},
   "outputs": [],
   "source": [
    "df_job_titles = (df_salaries.select('job_title')\n",
    "               .distinct()\n",
    "               .orderBy('job_title')\n",
    "               .alias('job_titles'))"
   ]
  },
  {
   "cell_type": "markdown",
   "id": "offshore-architecture",
   "metadata": {},
   "source": [
    "print all rows from df_job_titles without truncating jobs"
   ]
  },
  {
   "cell_type": "code",
   "execution_count": 9,
   "id": "asian-edition",
   "metadata": {},
   "outputs": [
    {
     "name": "stdout",
     "output_type": "stream",
     "text": [
      "+----------------------------------------+\n",
      "|job_title                               |\n",
      "+----------------------------------------+\n",
      "|3D Computer Vision Researcher           |\n",
      "|AI Scientist                            |\n",
      "|Analytics Engineer                      |\n",
      "|Applied Data Scientist                  |\n",
      "|Applied Machine Learning Scientist      |\n",
      "|BI Data Analyst                         |\n",
      "|Big Data Architect                      |\n",
      "|Big Data Engineer                       |\n",
      "|Business Data Analyst                   |\n",
      "|Cloud Data Engineer                     |\n",
      "|Computer Vision Engineer                |\n",
      "|Computer Vision Software Engineer       |\n",
      "|Data Analyst                            |\n",
      "|Data Analytics Engineer                 |\n",
      "|Data Analytics Lead                     |\n",
      "|Data Analytics Manager                  |\n",
      "|Data Architect                          |\n",
      "|Data Engineer                           |\n",
      "|Data Engineering Manager                |\n",
      "|Data Science Consultant                 |\n",
      "|Data Science Engineer                   |\n",
      "|Data Science Manager                    |\n",
      "|Data Scientist                          |\n",
      "|Data Specialist                         |\n",
      "|Director of Data Engineering            |\n",
      "|Director of Data Science                |\n",
      "|ETL Developer                           |\n",
      "|Finance Data Analyst                    |\n",
      "|Financial Data Analyst                  |\n",
      "|Head of Data                            |\n",
      "|Head of Data Science                    |\n",
      "|Head of Machine Learning                |\n",
      "|Lead Data Analyst                       |\n",
      "|Lead Data Engineer                      |\n",
      "|Lead Data Scientist                     |\n",
      "|Lead Machine Learning Engineer          |\n",
      "|ML Engineer                             |\n",
      "|Machine Learning Developer              |\n",
      "|Machine Learning Engineer               |\n",
      "|Machine Learning Infrastructure Engineer|\n",
      "|Machine Learning Manager                |\n",
      "|Machine Learning Scientist              |\n",
      "|Marketing Data Analyst                  |\n",
      "|NLP Engineer                            |\n",
      "|Principal Data Analyst                  |\n",
      "|Principal Data Engineer                 |\n",
      "|Principal Data Scientist                |\n",
      "|Product Data Analyst                    |\n",
      "|Research Scientist                      |\n",
      "|Staff Data Scientist                    |\n",
      "+----------------------------------------+\n",
      "\n"
     ]
    }
   ],
   "source": [
    "df_job_titles.show(n=df_job_titles.count(), truncate=False)"
   ]
  },
  {
   "cell_type": "markdown",
   "id": "interim-pharmacy",
   "metadata": {},
   "source": [
    "create  df_analytic that will consists from max, avg, min USD salaries for all job_titles using groupBy. name of fields is avg_salary, min_salary, max_salary"
   ]
  },
  {
   "cell_type": "code",
   "execution_count": 10,
   "id": "naval-roller",
   "metadata": {},
   "outputs": [],
   "source": [
    "df_analytic = (df_salaries.groupBy('job_title')\n",
    "              .agg(max('salary_in_usd').alias('max_salary'),\n",
    "                   avg('salary_in_usd').alias('avg_salary'),\n",
    "                   min('salary_in_usd').alias('min_salary'))\n",
    "              .orderBy('job_title'))"
   ]
  },
  {
   "cell_type": "markdown",
   "id": "french-pledge",
   "metadata": {},
   "source": [
    "print all rows from df_analytic without trancating jobs"
   ]
  },
  {
   "cell_type": "code",
   "execution_count": 11,
   "id": "bacterial-depression",
   "metadata": {},
   "outputs": [
    {
     "name": "stdout",
     "output_type": "stream",
     "text": [
      "+----------------------------------------+----------+------------------+----------+\n",
      "|job_title                               |max_salary|avg_salary        |min_salary|\n",
      "+----------------------------------------+----------+------------------+----------+\n",
      "|3D Computer Vision Researcher           |5409      |5409.0            |5409      |\n",
      "|AI Scientist                            |200000    |66135.57142857143 |12000     |\n",
      "|Analytics Engineer                      |205300    |175000.0          |135000    |\n",
      "|Applied Data Scientist                  |380000    |175655.0          |54238     |\n",
      "|Applied Machine Learning Scientist      |423000    |142068.75         |31875     |\n",
      "|BI Data Analyst                         |150000    |74755.16666666667 |9272      |\n",
      "|Big Data Architect                      |99703     |99703.0           |99703     |\n",
      "|Big Data Engineer                       |114047    |51974.0           |5882      |\n",
      "|Business Data Analyst                   |135000    |76691.2           |18442     |\n",
      "|Cloud Data Engineer                     |160000    |124647.0          |89294     |\n",
      "|Computer Vision Engineer                |125000    |44419.333333333336|10000     |\n",
      "|Computer Vision Software Engineer       |150000    |105248.66666666667|70000     |\n",
      "|Data Analyst                            |200000    |92893.06185567011 |6072      |\n",
      "|Data Analytics Engineer                 |110000    |64799.25          |20000     |\n",
      "|Data Analytics Lead                     |405000    |405000.0          |405000    |\n",
      "|Data Analytics Manager                  |150260    |127134.28571428571|105400    |\n",
      "|Data Architect                          |266400    |177873.9090909091 |90700     |\n",
      "|Data Engineer                           |324000    |112725.0          |4000      |\n",
      "|Data Engineering Manager                |174000    |123227.2          |59303     |\n",
      "|Data Science Consultant                 |103000    |69420.71428571429 |5707      |\n",
      "|Data Science Engineer                   |127221    |75803.33333333333 |40189     |\n",
      "|Data Science Manager                    |241000    |158328.5          |54094     |\n",
      "|Data Scientist                          |412000    |108187.83216783217|2859      |\n",
      "|Data Specialist                         |165000    |165000.0          |165000    |\n",
      "|Director of Data Engineering            |200000    |156738.0          |113476    |\n",
      "|Director of Data Science                |325000    |195074.0          |130026    |\n",
      "|ETL Developer                           |54957     |54957.0           |54957     |\n",
      "|Finance Data Analyst                    |61896     |61896.0           |61896     |\n",
      "|Financial Data Analyst                  |450000    |275000.0          |100000    |\n",
      "|Head of Data                            |235000    |160162.6          |32974     |\n",
      "|Head of Data Science                    |224000    |146718.75         |85000     |\n",
      "|Head of Machine Learning                |79039     |79039.0           |79039     |\n",
      "|Lead Data Analyst                       |170000    |92203.0           |19609     |\n",
      "|Lead Data Engineer                      |276000    |139724.5          |56000     |\n",
      "|Lead Data Scientist                     |190000    |115190.0          |40570     |\n",
      "|Lead Machine Learning Engineer          |87932     |87932.0           |87932     |\n",
      "|ML Engineer                             |270000    |117504.0          |15966     |\n",
      "|Machine Learning Developer              |100000    |85860.66666666667 |78791     |\n",
      "|Machine Learning Engineer               |250000    |104880.14634146342|20000     |\n",
      "|Machine Learning Infrastructure Engineer|195000    |101145.0          |50180     |\n",
      "|Machine Learning Manager                |117104    |117104.0          |117104    |\n",
      "|Machine Learning Scientist              |260000    |158412.5          |12000     |\n",
      "|Marketing Data Analyst                  |88654     |88654.0           |88654     |\n",
      "|NLP Engineer                            |37236     |37236.0           |37236     |\n",
      "|Principal Data Analyst                  |170000    |122500.0          |75000     |\n",
      "|Principal Data Engineer                 |600000    |328333.3333333333 |185000    |\n",
      "|Principal Data Scientist                |416000    |215242.42857142858|148261    |\n",
      "|Product Data Analyst                    |20000     |13036.0           |6072      |\n",
      "|Research Scientist                      |450000    |109019.5          |42000     |\n",
      "|Staff Data Scientist                    |105000    |105000.0          |105000    |\n",
      "+----------------------------------------+----------+------------------+----------+\n",
      "\n"
     ]
    }
   ],
   "source": [
    "df_analytic.show(n=df_analytic.count(), truncate=False)"
   ]
  },
  {
   "cell_type": "markdown",
   "id": "hazardous-color",
   "metadata": {},
   "source": [
    "now you need to add in df_analytic column row_id, that will show order of all job_titles depending on avg salary. they should be descending"
   ]
  },
  {
   "cell_type": "code",
   "execution_count": 12,
   "id": "nearby-treasurer",
   "metadata": {},
   "outputs": [],
   "source": [
    "df_analytic = df_analytic.withColumn('row_id',row_number().over(\n",
    "    Window.orderBy(desc('avg_salary'))\n",
    "))"
   ]
  },
  {
   "cell_type": "markdown",
   "id": "documented-catalog",
   "metadata": {},
   "source": [
    "print all data from df_analytic"
   ]
  },
  {
   "cell_type": "code",
   "execution_count": 13,
   "id": "confirmed-monitoring",
   "metadata": {},
   "outputs": [
    {
     "name": "stdout",
     "output_type": "stream",
     "text": [
      "+----------------------------------------+----------+------------------+----------+------+\n",
      "|job_title                               |max_salary|avg_salary        |min_salary|row_id|\n",
      "+----------------------------------------+----------+------------------+----------+------+\n",
      "|Data Analytics Lead                     |405000    |405000.0          |405000    |1     |\n",
      "|Principal Data Engineer                 |600000    |328333.3333333333 |185000    |2     |\n",
      "|Financial Data Analyst                  |450000    |275000.0          |100000    |3     |\n",
      "|Principal Data Scientist                |416000    |215242.42857142858|148261    |4     |\n",
      "|Director of Data Science                |325000    |195074.0          |130026    |5     |\n",
      "|Data Architect                          |266400    |177873.9090909091 |90700     |6     |\n",
      "|Applied Data Scientist                  |380000    |175655.0          |54238     |7     |\n",
      "|Analytics Engineer                      |205300    |175000.0          |135000    |8     |\n",
      "|Data Specialist                         |165000    |165000.0          |165000    |9     |\n",
      "|Head of Data                            |235000    |160162.6          |32974     |10    |\n",
      "|Machine Learning Scientist              |260000    |158412.5          |12000     |11    |\n",
      "|Data Science Manager                    |241000    |158328.5          |54094     |12    |\n",
      "|Director of Data Engineering            |200000    |156738.0          |113476    |13    |\n",
      "|Head of Data Science                    |224000    |146718.75         |85000     |14    |\n",
      "|Applied Machine Learning Scientist      |423000    |142068.75         |31875     |15    |\n",
      "|Lead Data Engineer                      |276000    |139724.5          |56000     |16    |\n",
      "|Data Analytics Manager                  |150260    |127134.28571428571|105400    |17    |\n",
      "|Cloud Data Engineer                     |160000    |124647.0          |89294     |18    |\n",
      "|Data Engineering Manager                |174000    |123227.2          |59303     |19    |\n",
      "|Principal Data Analyst                  |170000    |122500.0          |75000     |20    |\n",
      "|ML Engineer                             |270000    |117504.0          |15966     |21    |\n",
      "|Machine Learning Manager                |117104    |117104.0          |117104    |22    |\n",
      "|Lead Data Scientist                     |190000    |115190.0          |40570     |23    |\n",
      "|Data Engineer                           |324000    |112725.0          |4000      |24    |\n",
      "|Research Scientist                      |450000    |109019.5          |42000     |25    |\n",
      "|Data Scientist                          |412000    |108187.83216783217|2859      |26    |\n",
      "|Computer Vision Software Engineer       |150000    |105248.66666666667|70000     |27    |\n",
      "|Staff Data Scientist                    |105000    |105000.0          |105000    |28    |\n",
      "|Machine Learning Engineer               |250000    |104880.14634146342|20000     |29    |\n",
      "|Machine Learning Infrastructure Engineer|195000    |101145.0          |50180     |30    |\n",
      "|Big Data Architect                      |99703     |99703.0           |99703     |31    |\n",
      "|Data Analyst                            |200000    |92893.06185567011 |6072      |32    |\n",
      "|Lead Data Analyst                       |170000    |92203.0           |19609     |33    |\n",
      "|Marketing Data Analyst                  |88654     |88654.0           |88654     |34    |\n",
      "|Lead Machine Learning Engineer          |87932     |87932.0           |87932     |35    |\n",
      "|Machine Learning Developer              |100000    |85860.66666666667 |78791     |36    |\n",
      "|Head of Machine Learning                |79039     |79039.0           |79039     |37    |\n",
      "|Business Data Analyst                   |135000    |76691.2           |18442     |38    |\n",
      "|Data Science Engineer                   |127221    |75803.33333333333 |40189     |39    |\n",
      "|BI Data Analyst                         |150000    |74755.16666666667 |9272      |40    |\n",
      "|Data Science Consultant                 |103000    |69420.71428571429 |5707      |41    |\n",
      "|AI Scientist                            |200000    |66135.57142857143 |12000     |42    |\n",
      "|Data Analytics Engineer                 |110000    |64799.25          |20000     |43    |\n",
      "|Finance Data Analyst                    |61896     |61896.0           |61896     |44    |\n",
      "|ETL Developer                           |54957     |54957.0           |54957     |45    |\n",
      "|Big Data Engineer                       |114047    |51974.0           |5882      |46    |\n",
      "|Computer Vision Engineer                |125000    |44419.333333333336|10000     |47    |\n",
      "|NLP Engineer                            |37236     |37236.0           |37236     |48    |\n",
      "|Product Data Analyst                    |20000     |13036.0           |6072      |49    |\n",
      "|3D Computer Vision Researcher           |5409      |5409.0            |5409      |50    |\n",
      "+----------------------------------------+----------+------------------+----------+------+\n",
      "\n"
     ]
    }
   ],
   "source": [
    "df_analytic.show(n=df_analytic.count(),truncate=False)"
   ]
  },
  {
   "cell_type": "markdown",
   "id": "satellite-quarter",
   "metadata": {},
   "source": [
    "it isn't beautifull, so we need to put now row_id on first place in df_analytic"
   ]
  },
  {
   "cell_type": "code",
   "execution_count": 14,
   "id": "ranging-tribune",
   "metadata": {},
   "outputs": [],
   "source": [
    "df_analytic = df_analytic.select('row_id', 'job_title', 'max_salary', 'avg_salary', 'min_salary')"
   ]
  },
  {
   "cell_type": "markdown",
   "id": "reliable-amsterdam",
   "metadata": {},
   "source": [
    "print df_analytic now"
   ]
  },
  {
   "cell_type": "code",
   "execution_count": 15,
   "id": "classical-biology",
   "metadata": {},
   "outputs": [
    {
     "name": "stdout",
     "output_type": "stream",
     "text": [
      "+------+----------------------------------------+----------+------------------+----------+\n",
      "|row_id|job_title                               |max_salary|avg_salary        |min_salary|\n",
      "+------+----------------------------------------+----------+------------------+----------+\n",
      "|1     |Data Analytics Lead                     |405000    |405000.0          |405000    |\n",
      "|2     |Principal Data Engineer                 |600000    |328333.3333333333 |185000    |\n",
      "|3     |Financial Data Analyst                  |450000    |275000.0          |100000    |\n",
      "|4     |Principal Data Scientist                |416000    |215242.42857142858|148261    |\n",
      "|5     |Director of Data Science                |325000    |195074.0          |130026    |\n",
      "|6     |Data Architect                          |266400    |177873.9090909091 |90700     |\n",
      "|7     |Applied Data Scientist                  |380000    |175655.0          |54238     |\n",
      "|8     |Analytics Engineer                      |205300    |175000.0          |135000    |\n",
      "|9     |Data Specialist                         |165000    |165000.0          |165000    |\n",
      "|10    |Head of Data                            |235000    |160162.6          |32974     |\n",
      "|11    |Machine Learning Scientist              |260000    |158412.5          |12000     |\n",
      "|12    |Data Science Manager                    |241000    |158328.5          |54094     |\n",
      "|13    |Director of Data Engineering            |200000    |156738.0          |113476    |\n",
      "|14    |Head of Data Science                    |224000    |146718.75         |85000     |\n",
      "|15    |Applied Machine Learning Scientist      |423000    |142068.75         |31875     |\n",
      "|16    |Lead Data Engineer                      |276000    |139724.5          |56000     |\n",
      "|17    |Data Analytics Manager                  |150260    |127134.28571428571|105400    |\n",
      "|18    |Cloud Data Engineer                     |160000    |124647.0          |89294     |\n",
      "|19    |Data Engineering Manager                |174000    |123227.2          |59303     |\n",
      "|20    |Principal Data Analyst                  |170000    |122500.0          |75000     |\n",
      "|21    |ML Engineer                             |270000    |117504.0          |15966     |\n",
      "|22    |Machine Learning Manager                |117104    |117104.0          |117104    |\n",
      "|23    |Lead Data Scientist                     |190000    |115190.0          |40570     |\n",
      "|24    |Data Engineer                           |324000    |112725.0          |4000      |\n",
      "|25    |Research Scientist                      |450000    |109019.5          |42000     |\n",
      "|26    |Data Scientist                          |412000    |108187.83216783217|2859      |\n",
      "|27    |Computer Vision Software Engineer       |150000    |105248.66666666667|70000     |\n",
      "|28    |Staff Data Scientist                    |105000    |105000.0          |105000    |\n",
      "|29    |Machine Learning Engineer               |250000    |104880.14634146342|20000     |\n",
      "|30    |Machine Learning Infrastructure Engineer|195000    |101145.0          |50180     |\n",
      "|31    |Big Data Architect                      |99703     |99703.0           |99703     |\n",
      "|32    |Data Analyst                            |200000    |92893.06185567011 |6072      |\n",
      "|33    |Lead Data Analyst                       |170000    |92203.0           |19609     |\n",
      "|34    |Marketing Data Analyst                  |88654     |88654.0           |88654     |\n",
      "|35    |Lead Machine Learning Engineer          |87932     |87932.0           |87932     |\n",
      "|36    |Machine Learning Developer              |100000    |85860.66666666667 |78791     |\n",
      "|37    |Head of Machine Learning                |79039     |79039.0           |79039     |\n",
      "|38    |Business Data Analyst                   |135000    |76691.2           |18442     |\n",
      "|39    |Data Science Engineer                   |127221    |75803.33333333333 |40189     |\n",
      "|40    |BI Data Analyst                         |150000    |74755.16666666667 |9272      |\n",
      "|41    |Data Science Consultant                 |103000    |69420.71428571429 |5707      |\n",
      "|42    |AI Scientist                            |200000    |66135.57142857143 |12000     |\n",
      "|43    |Data Analytics Engineer                 |110000    |64799.25          |20000     |\n",
      "|44    |Finance Data Analyst                    |61896     |61896.0           |61896     |\n",
      "|45    |ETL Developer                           |54957     |54957.0           |54957     |\n",
      "|46    |Big Data Engineer                       |114047    |51974.0           |5882      |\n",
      "|47    |Computer Vision Engineer                |125000    |44419.333333333336|10000     |\n",
      "|48    |NLP Engineer                            |37236     |37236.0           |37236     |\n",
      "|49    |Product Data Analyst                    |20000     |13036.0           |6072      |\n",
      "|50    |3D Computer Vision Researcher           |5409      |5409.0            |5409      |\n",
      "+------+----------------------------------------+----------+------------------+----------+\n",
      "\n"
     ]
    }
   ],
   "source": [
    "df_analytic.show(n=df_analytic.count(), truncate=False)"
   ]
  },
  {
   "cell_type": "markdown",
   "id": "hybrid-queensland",
   "metadata": {},
   "source": [
    "here you need to create df_exp_lvl with the biggest usd_salary(biggest_salary) for each experience_level(you need to save all fields like in entire dataframe)"
   ]
  },
  {
   "cell_type": "code",
   "execution_count": 24,
   "id": "dental-wrist",
   "metadata": {},
   "outputs": [],
   "source": [
    "df_exp_lvl = (df_salaries.groupBy('experience_level')\n",
    "              .agg(max('salary_in_usd').alias('biggest_salary'))\n",
    "              .orderBy('biggest_salary'))"
   ]
  },
  {
   "cell_type": "markdown",
   "id": "innovative-hierarchy",
   "metadata": {},
   "source": [
    "print here df_exp_lvl"
   ]
  },
  {
   "cell_type": "code",
   "execution_count": 25,
   "id": "standing-toilet",
   "metadata": {},
   "outputs": [
    {
     "name": "stdout",
     "output_type": "stream",
     "text": [
      "+----------------+--------------+\n",
      "|experience_level|biggest_salary|\n",
      "+----------------+--------------+\n",
      "|EN              |250000        |\n",
      "|SE              |412000        |\n",
      "|MI              |450000        |\n",
      "|EX              |600000        |\n",
      "+----------------+--------------+\n",
      "\n"
     ]
    }
   ],
   "source": [
    "df_exp_lvl.show(truncate=False)"
   ]
  },
  {
   "cell_type": "markdown",
   "id": "hawaiian-mortgage",
   "metadata": {},
   "source": [
    "create df_best that consists from rows where salary of guy same as biggest salary for other people in his exp_lvl and choose only columns: id, experience_level, biggest_salary, employee_residence"
   ]
  },
  {
   "cell_type": "code",
   "execution_count": 121,
   "id": "toxic-prompt",
   "metadata": {},
   "outputs": [],
   "source": [
    "df_best = (df_salaries.join(df_exp_lvl, (df_salaries.salary_in_usd == df_exp_lvl.biggest_salary) & (df_salaries.experience_level ==  df_exp_lvl.experience_level)                           )\n",
    "           .drop(df_salaries[\"experience_level\"])  \n",
    "          )\n",
    "df_best = df_best.select(df_best._c0.alias('id'), df_best.experience_level, df_best.biggest_salary, df_salaries.employee_residence)"
   ]
  },
  {
   "cell_type": "markdown",
   "id": "complex-librarian",
   "metadata": {},
   "source": [
    "print df_best"
   ]
  },
  {
   "cell_type": "code",
   "execution_count": 122,
   "id": "smart-texas",
   "metadata": {},
   "outputs": [
    {
     "name": "stdout",
     "output_type": "stream",
     "text": [
      "Number of rows: 5\n",
      "+---+----------------+--------------+------------------+\n",
      "| id|experience_level|biggest_salary|employee_residence|\n",
      "+---+----------------+--------------+------------------+\n",
      "| 33|              MI|        450000|                US|\n",
      "| 37|              EN|        250000|                US|\n",
      "| 63|              SE|        412000|                US|\n",
      "| 97|              MI|        450000|                US|\n",
      "|252|              EX|        600000|                US|\n",
      "+---+----------------+--------------+------------------+\n",
      "\n"
     ]
    }
   ],
   "source": [
    "print(f'Number of rows: {df_best.count()}')\n",
    "df_best.show(n=df_best.count())"
   ]
  },
  {
   "cell_type": "markdown",
   "id": "integral-brass",
   "metadata": {},
   "source": [
    "drop duplicates if exist by experience_level"
   ]
  },
  {
   "cell_type": "code",
   "execution_count": 130,
   "id": "immune-marine",
   "metadata": {},
   "outputs": [],
   "source": [
    "# n/a, made on previous step\n",
    "df_best = df_best.dropDuplicates(['experience_level', 'biggest_salary', 'employee_residence'])"
   ]
  },
  {
   "cell_type": "markdown",
   "id": "connected-credit",
   "metadata": {},
   "source": [
    "print df_best"
   ]
  },
  {
   "cell_type": "code",
   "execution_count": 131,
   "id": "specified-wellington",
   "metadata": {},
   "outputs": [
    {
     "name": "stdout",
     "output_type": "stream",
     "text": [
      "+---+----------------+--------------+------------------+\n",
      "| id|experience_level|biggest_salary|employee_residence|\n",
      "+---+----------------+--------------+------------------+\n",
      "| 33|              MI|        450000|                US|\n",
      "| 63|              SE|        412000|                US|\n",
      "| 37|              EN|        250000|                US|\n",
      "|252|              EX|        600000|                US|\n",
      "+---+----------------+--------------+------------------+\n",
      "\n"
     ]
    }
   ],
   "source": [
    "df_best.show(n=df_best.count())"
   ]
  },
  {
   "cell_type": "markdown",
   "id": "facial-plant",
   "metadata": {},
   "source": [
    "create df_new_best from df_best without id, and make the next: when exp_level = MI we want middle, when SE we want senior, else Null"
   ]
  },
  {
   "cell_type": "code",
   "execution_count": 132,
   "id": "infinite-retail",
   "metadata": {},
   "outputs": [],
   "source": [
    "df_new_best = df_best.select(when(df_best.experience_level == 'MI', 'middle') \n",
    "                            .when(df_best.experience_level == 'SE', 'senior')\n",
    "                            .alias('experience_level')\n",
    "                            , df_best.biggest_salary, df_best.employee_residence\n",
    "                            )"
   ]
  },
  {
   "cell_type": "markdown",
   "id": "changing-fairy",
   "metadata": {},
   "source": [
    "print df_new_best"
   ]
  },
  {
   "cell_type": "code",
   "execution_count": 133,
   "id": "endless-framework",
   "metadata": {},
   "outputs": [
    {
     "name": "stdout",
     "output_type": "stream",
     "text": [
      "+----------------+--------------+------------------+\n",
      "|experience_level|biggest_salary|employee_residence|\n",
      "+----------------+--------------+------------------+\n",
      "|          middle|        450000|                US|\n",
      "|          senior|        412000|                US|\n",
      "|            NULL|        250000|                US|\n",
      "|            NULL|        600000|                US|\n",
      "+----------------+--------------+------------------+\n",
      "\n"
     ]
    }
   ],
   "source": [
    "df_new_best.show(n=df_new_best.count())"
   ]
  },
  {
   "cell_type": "markdown",
   "id": "mineral-status",
   "metadata": {},
   "source": [
    "write df_new_best like 1.csv and load then it to df_final"
   ]
  },
  {
   "cell_type": "code",
   "execution_count": 140,
   "id": "baking-progress",
   "metadata": {},
   "outputs": [],
   "source": [
    "df_new_best.toPandas().to_csv('./1.csv', header='True')\n",
    "df_final = (spark.read.format('csv')\n",
    "            .option('header', 'true')\n",
    "            .option('inferSchema', 'true')\n",
    "            .load('1.csv')\n",
    "           )"
   ]
  },
  {
   "cell_type": "markdown",
   "id": "vocal-shooting",
   "metadata": {},
   "source": [
    "print df_final"
   ]
  },
  {
   "cell_type": "code",
   "execution_count": 141,
   "id": "expired-viewer",
   "metadata": {},
   "outputs": [
    {
     "name": "stdout",
     "output_type": "stream",
     "text": [
      "+---+----------------+--------------+------------------+\n",
      "|_c0|experience_level|biggest_salary|employee_residence|\n",
      "+---+----------------+--------------+------------------+\n",
      "|  0|          middle|        450000|                US|\n",
      "|  1|          senior|        412000|                US|\n",
      "|  2|            NULL|        250000|                US|\n",
      "|  3|            NULL|        600000|                US|\n",
      "+---+----------------+--------------+------------------+\n",
      "\n"
     ]
    }
   ],
   "source": [
    "df_final.show()"
   ]
  },
  {
   "cell_type": "markdown",
   "id": "nutritional-progress",
   "metadata": {},
   "source": [
    "filter df_final to delete experience_level where it Null, then join this table by biggest_salary(salary_in_usd) and employee_residence with entire df"
   ]
  },
  {
   "cell_type": "code",
   "execution_count": 143,
   "id": "small-polymer",
   "metadata": {},
   "outputs": [],
   "source": [
    "df_final = df_final.filter(~df_final.experience_level.isNull())\n",
    "df_final = df_final.join(df_salaries, (df_final.biggest_salary == df_salaries.salary_in_usd) & (df_final.employee_residence == df_salaries.employee_residence))"
   ]
  },
  {
   "cell_type": "markdown",
   "id": "variable-twins",
   "metadata": {},
   "source": [
    "print df_final"
   ]
  },
  {
   "cell_type": "code",
   "execution_count": 145,
   "id": "generic-block",
   "metadata": {},
   "outputs": [
    {
     "name": "stdout",
     "output_type": "stream",
     "text": [
      "+---+----------------+--------------+------------------+---+---------+----------------+---------------+----------------------+------+---------------+-------------+------------------+------------+----------------+------------+\n",
      "|_c0|experience_level|biggest_salary|employee_residence|_c0|work_year|experience_level|employment_type|job_title             |salary|salary_currency|salary_in_usd|employee_residence|remote_ratio|company_location|company_size|\n",
      "+---+----------------+--------------+------------------+---+---------+----------------+---------------+----------------------+------+---------------+-------------+------------------+------------+----------------+------------+\n",
      "|0  |middle          |450000        |US                |33 |2020     |MI              |FT             |Research Scientist    |450000|USD            |450000       |US                |0           |US              |M           |\n",
      "|1  |senior          |412000        |US                |63 |2020     |SE              |FT             |Data Scientist        |412000|USD            |412000       |US                |100         |US              |L           |\n",
      "|0  |middle          |450000        |US                |97 |2021     |MI              |FT             |Financial Data Analyst|450000|USD            |450000       |US                |100         |US              |L           |\n",
      "+---+----------------+--------------+------------------+---+---------+----------------+---------------+----------------------+------+---------------+-------------+------------------+------------+----------------+------------+\n",
      "\n"
     ]
    }
   ],
   "source": [
    "df_final.show(truncate=False)"
   ]
  },
  {
   "cell_type": "markdown",
   "id": "variable-moore",
   "metadata": {},
   "source": [
    "last task is to save in variable and then print this variable of the biggest salary_in_usd from df_final"
   ]
  },
  {
   "cell_type": "code",
   "execution_count": 165,
   "id": "individual-institution",
   "metadata": {},
   "outputs": [
    {
     "name": "stdout",
     "output_type": "stream",
     "text": [
      "The biggest salary in usd: 450000\n"
     ]
    }
   ],
   "source": [
    "biggest_salary_in_usd = df_final.select(max('salary_in_usd')).collect()[0][0]\n",
    "print(f'The biggest salary in usd: {biggest_salary_in_usd}')"
   ]
  },
  {
   "cell_type": "markdown",
   "id": "stopped-procedure",
   "metadata": {},
   "source": [
    "It is the end of PySpark basics. In other lessons you will learn optimizations technics and how to make distributed system"
   ]
  },
  {
   "cell_type": "code",
   "execution_count": null,
   "id": "d48266ac-157e-4385-b0e5-b89db4df8834",
   "metadata": {},
   "outputs": [],
   "source": [
    "spark.stop()"
   ]
  }
 ],
 "metadata": {
  "kernelspec": {
   "display_name": "Python 3 (ipykernel)",
   "language": "python",
   "name": "python3"
  },
  "language_info": {
   "codemirror_mode": {
    "name": "ipython",
    "version": 3
   },
   "file_extension": ".py",
   "mimetype": "text/x-python",
   "name": "python",
   "nbconvert_exporter": "python",
   "pygments_lexer": "ipython3",
   "version": "3.11.6"
  }
 },
 "nbformat": 4,
 "nbformat_minor": 5
}
